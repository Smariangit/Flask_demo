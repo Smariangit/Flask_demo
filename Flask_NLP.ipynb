{
 "cells": [
  {
   "cell_type": "code",
   "execution_count": 1,
   "id": "9ef30744-bbc1-4a1e-ab97-554960616b3f",
   "metadata": {},
   "outputs": [],
   "source": [
    "from flask import Flask, request, render_template, redirect, url_for\n",
    "from textblob import TextBlob\n",
    "import pandas as pd\n",
    "import io\n",
    "app=Flask(__name__, static_url_path='/static')"
   ]
  },
  {
   "cell_type": "code",
   "execution_count": null,
   "id": "e8b64cd1-6475-4772-8f38-45773cb3d310",
   "metadata": {},
   "outputs": [
    {
     "name": "stdout",
     "output_type": "stream",
     "text": [
      " * Serving Flask app '__main__'\n",
      " * Debug mode: on\n"
     ]
    },
    {
     "name": "stderr",
     "output_type": "stream",
     "text": [
      "WARNING: This is a development server. Do not use it in a production deployment. Use a production WSGI server instead.\n",
      " * Running on http://127.0.0.1:5000\n",
      "Press CTRL+C to quit\n",
      "127.0.0.1 - - [01/Sep/2023 20:28:54] \"GET / HTTP/1.1\" 200 -\n",
      "127.0.0.1 - - [01/Sep/2023 20:29:00] \"GET /index HTTP/1.1\" 200 -\n",
      "127.0.0.1 - - [01/Sep/2023 20:29:00] \"GET /static/style.css HTTP/1.1\" 304 -\n",
      "127.0.0.1 - - [01/Sep/2023 20:29:13] \"POST /analyze HTTP/1.1\" 200 -\n",
      "127.0.0.1 - - [01/Sep/2023 20:29:13] \"GET /static/style.css HTTP/1.1\" 304 -\n"
     ]
    }
   ],
   "source": [
    "@app.route(\"/index\", methods=[\"GET\"])\n",
    "def welcome():\n",
    "    return(render_template('index.html'))\n",
    "\n",
    "@app.route(\"/\", methods=[\"GET\"])\n",
    "def greet():\n",
    "    return('<h2 style=\"color:green;text-align:center;\">Welcome. | Home Page | Sparsh Verma |</h2>')\n",
    "\n",
    "\n",
    "@app.route('/analyze', methods=['POST'])\n",
    "def analyze():\n",
    "    if request.method == 'POST':\n",
    "        text = request.form['text']\n",
    "        analysis = TextBlob(text)\n",
    "\n",
    "        # Determine sentiment\n",
    "        if analysis.sentiment.polarity > 0:\n",
    "            sentiment = 'Positive'\n",
    "        elif analysis.sentiment.polarity < 0:\n",
    "            sentiment = 'Negative'\n",
    "        else:\n",
    "            sentiment = 'Neutral'\n",
    "\n",
    "        return render_template('result.html', text=text, sentiment=sentiment)\n",
    "                                \n",
    "\n",
    "if __name__==\"__main__\":\n",
    "    app.run(debug=True, use_reloader=False)"
   ]
  },
  {
   "cell_type": "code",
   "execution_count": null,
   "id": "9d03aa00-70ee-46ef-844e-8c1b0a5884ad",
   "metadata": {},
   "outputs": [],
   "source": []
  }
 ],
 "metadata": {
  "kernelspec": {
   "display_name": "Python 3 (ipykernel)",
   "language": "python",
   "name": "python3"
  },
  "language_info": {
   "codemirror_mode": {
    "name": "ipython",
    "version": 3
   },
   "file_extension": ".py",
   "mimetype": "text/x-python",
   "name": "python",
   "nbconvert_exporter": "python",
   "pygments_lexer": "ipython3",
   "version": "3.11.1"
  }
 },
 "nbformat": 4,
 "nbformat_minor": 5
}
